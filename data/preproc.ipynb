{
 "cells": [
  {
   "cell_type": "code",
   "execution_count": 1,
   "metadata": {},
   "outputs": [
    {
     "name": "stderr",
     "output_type": "stream",
     "text": [
      "/Users/aleksandrlazarev/anaconda3/lib/python3.11/site-packages/pandas/core/arrays/masked.py:60: UserWarning: Pandas requires version '1.3.6' or newer of 'bottleneck' (version '1.3.5' currently installed).\n",
      "  from pandas.core import (\n"
     ]
    }
   ],
   "source": [
    "import pandas as pd\n",
    "import re\n",
    "\n",
    "df = pd.read_csv(\"data (3).csv\", index_col=\"Unnamed: 0\", encoding=\"UTF-8\")\n",
    "\n",
    "df.head()\n",
    "new_df = pd.DataFrame(columns=['genre', 'lyrics', 'first_line'])\n",
    "\n",
    "for i, row in df.iterrows():\n",
    "    lyrics = re.sub(r'[^a-zA-Zа-яА-ЯёЁ\\s.,!?[]]', '', row['lyrics'])\n",
    "    lyrics = re.sub(r\"You might also like\", \"\", lyrics)\n",
    "    if isinstance(lyrics, str):\n",
    "        for chord in lyrics.split('\\n\\n'):\n",
    "            text = chord.split('\\n')\n",
    "            text = [i for i in text if i != '']\n",
    "            for i in range(len(text)//4):\n",
    "                new_text = text[i*4]+'\\n'+text[i*4+1]+'\\n'+text[i*4+2]+'\\n'+text[i*4+3]+'\\n'\n",
    "                new_df = pd.concat([new_df, pd.DataFrame([[row[\"genre\"], new_text, text[i*4]]], columns=['genre', 'lyrics', 'first_line'])])\n",
    "\n",
    "new_df = new_df.drop_duplicates()\n",
    "\n",
    "def convert_to_json(data):\n",
    "    return {\n",
    "\"request\": [\n",
    "    {\n",
    "      \"role\": \"system\",\n",
    "      \"text\": \"Вы известный поэт с высочайшим навыком рифмования, а так же известный музыкальный исполнитель.\\nВаша задача придумать осмысленное четверостишье, в котором будут читаться рифмы в определенном жанре.\\nВам будет дана первая строка четверостишья, а так же его жанр. Вы должны вернуть только текст четверостишья.\"\n",
    "    },\n",
    "    {\n",
    "      \"role\": \"user\",\n",
    "      \"text\": f\"Первая строка: {data['first_line']}\\nЖанр: [{data['genre']}]\"\n",
    "    }\n",
    "  ],\n",
    "  \"response\": data[\"lyrics\"]\n",
    "}\n",
    "\n",
    "\n",
    "new_df[\"json\"] = new_df.apply(convert_to_json, axis=1)\n",
    "\n",
    "import json\n",
    "\n",
    "with open('output.json', 'w') as outfile:\n",
    "    for entry in list(new_df['json'].values):\n",
    "        json.dump(entry, outfile, ensure_ascii=False)\n",
    "        outfile.write('\\n')\n",
    "    \n",
    "    \n",
    "\n",
    "\n"
   ]
  }
 ],
 "metadata": {
  "kernelspec": {
   "display_name": "base",
   "language": "python",
   "name": "python3"
  },
  "language_info": {
   "codemirror_mode": {
    "name": "ipython",
    "version": 3
   },
   "file_extension": ".py",
   "mimetype": "text/x-python",
   "name": "python",
   "nbconvert_exporter": "python",
   "pygments_lexer": "ipython3",
   "version": "3.11.4"
  }
 },
 "nbformat": 4,
 "nbformat_minor": 2
}
